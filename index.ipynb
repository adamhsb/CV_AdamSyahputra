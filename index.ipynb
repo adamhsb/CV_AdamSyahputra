{
 "cells": [
  {
   "cell_type": "code",
   "execution_count": 855,
   "metadata": {},
   "outputs": [],
   "source": [
    "import random\n",
    "import numpy.random as npRandom\n",
    "import numpy as np"
   ]
  },
  
  {
   "cell_type": "code",
   "execution_count": 856,
   "metadata": {},
   "outputs": [],
   "source": [
    "def fungsix1x2(x1,x2):\n",
    "    \n",
    "    fx1x2=-1*(((4-(2.1*(x1**2))+((x1**4)/3))*(x1**2))+(x1*x2)+((-4+(4*(x2**2)))*(x2**2)))\n",
    "    return(fx1x2)\n",
    "    "
   ]
  },
  {
   "cell_type": "code",
   "execution_count": 857,
   "metadata": {
    "scrolled": true
   },
   "outputs": [],
   "source": [
    "def kromosompopulasi(panjangkromosom,jmlpopulasi):\n",
    "    populasi = [[npRandom.randint(0,10) for i in range(panjangkromosom)] for j in range(jmlpopulasi)]\n",
    "    return populasi\n",
    "#     return kromosom\n",
    "        \n",
    "\n",
    "def dekodekromosom(nmaxx1,nminx1,g,nmaxx2,nminx2):\n",
    " i=1\n"," j=0\n"," k=0\n"," l=0\n"," m=0\n", 
    "    while(i<=round(len(g)/2)):\n",
    "        k=(g[j]*(10**-i))+k\n",
    "        m=(9*(10**-i))+m\n",
    "        j=j+1\n",
    "        i=i+1\n",
    "    a=1\n",
    "    while(i<=len(g)):\n",
    "        u=(g[j]*(10**-a))+u\n",
    "        j=j+1\n",
    "        i=i+1\n",
    "        a=a+1\n",
    "    x1=nminx1+(((nmaxx1-nminx1)/(p))*j)\n",
    "   \n",
    "    x2=nminx2+(((nmaxx2-nminx2)/(p))*l)\n",
    "    return (x1,x2)\n",
    "\n",
    "\n",
    "        \n",
    "    "
   ]
  },
  {
   "cell_type": "code",
   "execution_count": 858,
   "metadata": {},
   "outputs": [],
   "source": [
    "demutasi(kromosom, pM):\n",
    "    i=0\n",
    "    for i in range(len(kromosom)):\n",
    "        prob = random.random()\n",
    "        if(prob <= pM):\n",
    "            tmp = kromosom[i]\n",
    "            while(tmp==kromosom[i]):\n",
    "                kromosom[i] = np.random.randint(10)\n",
    "        i=i+1;\n",
    "    \n",
    "    return kromosom"
   ]
  },
  {
   "cell_type": "code",
   "execution_count": 859,
   "metadata": {},
   "outputs": [],
   "source": [
    "def steadystate\n",
    "population = generatePopulation(N)\n",
    "    while stoppingCondition is not satisfied:\n",
    "        fitness = evaluate(population)\n",
    "    parent1, parent2 = parentSelection(population)\n",
    "    offspring = crossover(parent1, parent2, pC)\n",
    "    offspring = mutate(offspring, pM)    \n",
    "    population = steadyState(population, offspring)\n",
    "\n",
    "end"
   ]
  },
  {
   "cell_type": "code",
   "execution_count": 860,
   "metadata": {},
   "outputs": [],
   "source": [
    "def roulettewheelselection (fitness):\n",
    "    total=0\n",
    "    indv=1\n",
    "    for indv in range (n):\n",
    "        total= fitness(indv)+total\n",
    "        \n",
    "    r=random.random()\n",
    "    indv=1\n",
    "    while(r>0): \n",
    "            r= r-(fitness(indv)/total)\n",
    "            indv=indv+1\n",
    "    return indv"
   ]
  },
  {
   "cell_type": "code",
   "execution_count": 861,
   "metadata": {},
   "outputs": [
    {
     "name": "stdout",
     "output_type": "stream",
     "text": [
      "[[5, 6, 8, 7, 6, 5], [5, 0, 2, 8, 5, 9], [4, 7, 5, 7, 8, 6], [4, 8, 6, 6, 5, 3], [7, 3, 4, 0, 1, 8], [0, 5, 5, 2, 7, 3], [7, 6, 5, 8, 5, 2], [4, 4, 5, 7, 0, 9], [2, 4, 7, 0, 2, 1], [6, 4, 0, 2, 7, 3], [4, 3, 8, 3, 3, 4]]\n",
      "Kromosom terbaik:  [6, 4, 0, 2, 7, 3]\n",
      "Fitness:  -44.350748608301416\n",
      "X1:  0.8438438438438443\n",
      "X2: -0.9069069069069067\n"
     ]
    }
   ],
   "source": [
    "i=1\n",
    "j=0\n",
    "jmlpopulasi=15\n",
    "panjangkromosong=6\n",
    "generasi=12\n",
    "nminx1 = -3\n",
    "nmaxx1 = 3\n",
    "nminx2 = -2\n",
    "nmaxx2 = 2\n",
    "nilaiFitness=0\n",
    "banding=0\n",
    "kromosom=kromosompopulasi(panjangkromosom,jmlpopulasi)\n",
    "print(kromosom)\n",
    "while(i<generasi):\n",
    "    kro = kromosom[i]\n",
    "    x1,x2 = dekodekromosom(nmaxx1,nminx1,kro,nmaxx2,nminx2)\n",
    "    banding= fungsix1x2(x1,x2)\n",
    "    if(nilaiFitness<banding):\n",
    "        nilaiFitness=nilaiFitness\n",
    "        Nilaix1=x1\n",
    "        Nilaix2=x2\n",
    "        Kromosomterbaik=kro\n",
    "    else:\n",
    "        nilaiFitness=banding\n",
    "        Nilaix1=x1\n",
    "        Nilaix2=x2\n",
    "        kromosomterbaik=kro\n",
    "    i=i+1;\n",
    "\n",
    "# g=[2,0,5,7,6,9]\n",
    "print(\"Kromosom terbaik: \", kro)\n",
    "print(\"Fitness: \",nilaiFitness)\n",
    "print(\"X1: \",x1)\n",
    "print(\"X2:\",x2)\n",
    "\n",
    "\n",
    "\n",
    "\n"
   ]
  },
  {
   "cell_type": "code",
   "execution_count": null,
   "metadata": {},
   "outputs": [],
   "source": []
  }
 ],
 "metadata": {
  "kernelspec": {
   "display_name": "Python 3",
   "language": "python",
   "name": "python3"
  },
  "language_info": {
   "codemirror_mode": {
    "name": "ipython",
    "version": 3
   },
   "file_extension": ".py",
   "mimetype": "text/x-python",
   "name": "python",
   "nbconvert_exporter": "python",
   "pygments_lexer": "ipython3",
   "version": "3.7.3"
  }
 },
 "nbformat": 4,
 "nbformat_minor": 2
}
